{
 "cells": [
  {
   "cell_type": "code",
   "execution_count": 1,
   "id": "258cc784",
   "metadata": {
    "pycharm": {
     "name": "#%%\n"
    }
   },
   "outputs": [],
   "source": [
    "def initSkip(p): # skip table 만들어주는 함수\n",
    "    NUM = 94  # 기호 개수 126 - 33 + 1 (!부터 시작)\n",
    "    M = len(p) # 패턴의 길이\n",
    "    skip = [M for i in range(NUM)] # skip 함수를 모두 M값으로 초기화\n",
    "    for i in range(M):\n",
    "        skip[ord(p[i]) - ord('!')] = M - i - 1 # 유니코드 정수로 바꿔서 패턴의 index만 skip table 바꿔주기\n",
    "    return skip # skip table 반환"
   ]
  },
  {
   "cell_type": "code",
   "execution_count": 2,
   "id": "98b740e9",
   "metadata": {
    "pycharm": {
     "name": "#%%\n"
    }
   },
   "outputs": [],
   "source": [
    "def BM(p, t): # 보이어 무어 함수\n",
    "    M = len(p) # 패턴 길이\n",
    "    N = len(t) # 텍스트 길이\n",
    "    skip = initSkip(p) # skip table 생성\n",
    "\n",
    "    i = M - 1 # 텍스트 인덱스\n",
    "    j = M - 1 # 패턴 인덱스\n",
    "\n",
    "    while j >= 0: # j가 -1이 됨과 동시에 내부의 while문 탈출하면 찾았다는 뜻\n",
    "        while t[i] != p[j]: # 패턴과 텍스트가 다를 때\n",
    "            k = skip[ord(t[i]) - ord('!')] # 텍스트 문자의 유니코드로 skip table 찾기\n",
    "            if M - j > k: # 현재 패턴 인덱스가 어느정도 앞으로 온 상태일 때\n",
    "                i = i + M - j # 패턴과 텍스트 인덱스를 맞춰주기\n",
    "            else: # 아니라면\n",
    "                i = i + k # skip table만큼 옮겨주기\n",
    "            if i >= N:\n",
    "                return N # 못찾으면 텍스트 길이 리턴\n",
    "            j = M - 1\n",
    "        i = i - 1 # 패턴과 텍스트가 동일하면 -1하여 다음 문자 비교\n",
    "        j = j - 1 # 패턴과 텍스트가 동일하면 -1하여 다음 문자 비교\n",
    "    return i + 1 # 찾았으면 패턴의 첫번째 인덱스 리턴"
   ]
  },
  {
   "cell_type": "code",
   "execution_count": 3,
   "id": "d250595c",
   "metadata": {
    "pycharm": {
     "name": "#%%\n"
    }
   },
   "outputs": [],
   "source": [
    "def find(p, t): # 한 라인 내에서 여러 개의 패턴을 찾을 수 있는 함수\n",
    "    M = len(p)\n",
    "    N = len(t)\n",
    "    idx_set = [] # 찾은 패턴 인덱스 받는 리스트\n",
    "    idx = BM(p, t) # 찾기\n",
    "    if idx < N: # 찾았을 때\n",
    "        idx_set.append(idx) # 리스트에 입력\n",
    "        while True: # 무한 루프\n",
    "            if N - idx < M: break # 남은 텍스트 길이가 패턴보다 짧을 때\n",
    "            text = t[idx + 1:] # 찾은 부분에서 텍스트 슬라이싱\n",
    "            idx = BM(p, text) # 자른 부분부터 다시 찾기\n",
    "            if idx >= len(text): break # 못찾아서 남은 텍스트 길이가 리턴된다면 break\n",
    "            idx = idx + idx_set[-1] + 1 # 슬라이싱된 텍스트에서 찾은 idx이기 때문에 자른 인덱스를 더해줘서 원래 텍스트로 복원\n",
    "            idx_set.append(idx) # 리스트에 입력\n",
    "                \n",
    "    return idx_set # 리스트 리턴"
   ]
  },
  {
   "cell_type": "code",
   "execution_count": 14,
   "id": "ddf5f56f",
   "metadata": {
    "pycharm": {
     "name": "#%%\n"
    }
   },
   "outputs": [
    {
     "name": "stdout",
     "output_type": "stream",
     "text": [
      "Searching : UA -----v\n",
      "line #95 found 7\n",
      "line #104 found 7\n",
      "Total : 2\n"
     ]
    }
   ],
   "source": [
    "# 파일 열기 (읽기 모드)\n",
    "f = open('/Users/yon_ninii/Python YM/Algo_Python/Algorithm_2022-1_Inha/Assignment1/RFC2616_modified.txt', 'r')\n",
    "i = 0 # line 세어주는 변수\n",
    "cnt = 0 # 찾은 패턴 개수 세어주는 변수\n",
    "\n",
    "pattern = 'UA -----v' # 패턴\n",
    "\n",
    "print('Searching : {}'.format(pattern))\n",
    "\n",
    "M = len(pattern) # 패턴 길이\n",
    "while True:\n",
    "    line = f.readline() # 한 줄씩 읽기\n",
    "    if not line : break # 텍스트 파일이 끝난다면 break\n",
    "    if M <= len(line): # 읽은 라인의 스트링이 패턴보다 짧지 않다면 실행\n",
    "        idxs = find(pattern, line) # idx_set 리턴 받기\n",
    "        for idx in idxs: # 찾았다면 모두 출력\n",
    "            print('line #{} found {}'.format(i, idx))\n",
    "            cnt += 1 # 찾은 패턴 개수 세기\n",
    "    i += 1 # 라인 번호 세기\n",
    "\n",
    "print('Total : {}'.format(cnt)) # 총 개수 출력\n",
    "\n",
    "f.close() # 파일 닫기"
   ]
  }
 ],
 "metadata": {
  "kernelspec": {
   "display_name": "Python 3 (ipykernel)",
   "language": "python",
   "name": "python3"
  },
  "language_info": {
   "codemirror_mode": {
    "name": "ipython",
    "version": 3
   },
   "file_extension": ".py",
   "mimetype": "text/x-python",
   "name": "python",
   "nbconvert_exporter": "python",
   "pygments_lexer": "ipython3",
   "version": "3.9.7"
  }
 },
 "nbformat": 4,
 "nbformat_minor": 5
}

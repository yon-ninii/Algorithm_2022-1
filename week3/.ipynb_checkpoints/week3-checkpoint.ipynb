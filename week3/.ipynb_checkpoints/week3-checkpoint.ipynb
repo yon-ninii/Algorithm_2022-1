{
 "cells": [
  {
   "cell_type": "code",
   "execution_count": 6,
   "id": "f066e9b4",
   "metadata": {},
   "outputs": [
    {
     "name": "stdout",
     "output_type": "stream",
     "text": [
      "Fibo time :  0.244991 sec\n",
      "Input :  30\n"
     ]
    }
   ],
   "source": [
    "import time # 코드 구동 시간 측정을 위한 라이브러리\n",
    "import random\n",
    "\n",
    "def fib(n) : # 피보나치 수열을 재귀함수로 구현\n",
    "    if n == 1 or n == 2:\n",
    "        return 1\n",
    "    else :\n",
    "        return fib(n - 1) + fib(n - 2)\n",
    "    \n",
    "n = 30 # 입력은 10, 20, 30\n",
    "    \n",
    "start_fibo = time.time() # 시작 시간 \n",
    "\n",
    "fib(n) # 함수 호출\n",
    " \n",
    "end_fibo = time.time() # 종료 시간\n",
    "\n",
    "print(\"Fibo time : \", format(end_fibo - start_fibo, 'f'), \"sec\") # 시간 출력(단위 : 초)\n",
    "print(\"Input : \", n)"
   ]
  },
  {
   "cell_type": "code",
   "execution_count": 54,
   "id": "cb332be3",
   "metadata": {},
   "outputs": [
    {
     "name": "stdout",
     "output_type": "stream",
     "text": [
      "Cubic time :  7.967740 sec\n",
      "Input :  200\n"
     ]
    }
   ],
   "source": [
    "import numpy as np # 배열 생성을 위한 numpy 라이브러리\n",
    "\n",
    "n = 200 # 배열 크기(입력은 10, 50, 100, 150, 200)\n",
    "\n",
    "a = np.random.random((n, n)) # 랜덤 값을 넣은 배열 생성\n",
    "b = np.random.random((n, n)) # 랜덤 값을 넣은 배열 생성\n",
    "c = np.random.random((n, n)) # 랜덤 값을 넣은 배열 생성\n",
    "d = np.random.random((n, n)) # 랜덤 값을 넣은 배열 생성\n",
    "\n",
    "start_cubic = time.time() # 시작 시간\n",
    "\n",
    "for i in range(n): # 3중 for루프 생성\n",
    "    for j in range(n):\n",
    "        for k in range(n):\n",
    "            d[k] = a[i, j] * b[i, j] * c[i, j] # a*b*c 행렬 곱\n",
    "    \n",
    "\n",
    "end_cubic = time.time() # 종료 시간\n",
    "\n",
    "print(\"Cubic time : \", format(end_cubic - start_cubic, 'f'), \"sec\") # 시간 출력(단위 : 초)\n",
    "print(\"Input : \", n)"
   ]
  }
 ],
 "metadata": {
  "kernelspec": {
   "display_name": "Python 3 (ipykernel)",
   "language": "python",
   "name": "python3"
  },
  "language_info": {
   "codemirror_mode": {
    "name": "ipython",
    "version": 3
   },
   "file_extension": ".py",
   "mimetype": "text/x-python",
   "name": "python",
   "nbconvert_exporter": "python",
   "pygments_lexer": "ipython3",
   "version": "3.9.7"
  }
 },
 "nbformat": 4,
 "nbformat_minor": 5
}

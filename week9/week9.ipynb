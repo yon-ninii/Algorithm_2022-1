{
 "cells": [
  {
   "cell_type": "code",
   "execution_count": 3,
   "id": "2a257da3",
   "metadata": {},
   "outputs": [],
   "source": [
    "class HuffNodes:  \n",
    "    def __init__(self, symbol, freq):  \n",
    "        self.symbol = symbol  \n",
    "        self.freq = freq\n",
    "        self.left = None\n",
    "        self.right = None\n",
    "        self.code = ''\n",
    "        \n",
    "    def __lt__(self, other):\n",
    "        return self.freq < other.freq\n",
    "        \n",
    "    def inorder(self):\n",
    "        if(self.left is not None):\n",
    "            self.left.inorder()\n",
    "        print(self.freq, end = \" \")\n",
    "        if (self.right is not None):\n",
    "            self.right.inorder()\n",
    "     \n",
    "    def encoding(self, code):\n",
    "        if(self.left is not None):\n",
    "            self.left.encoding(self.code + '0')\n",
    "        if(self.right is not None):\n",
    "            self.right.encoding(self.code + '1')\n",
    "            \n",
    "        self.code = code\n",
    "        \n",
    "    def inorder_code(self):\n",
    "        if(self.left is not None):\n",
    "            self.left.inorder_code()\n",
    "        if(self.symbol != ' '):\n",
    "            print(self.symbol, self.code, end = \" \")\n",
    "        if (self.right is not None):\n",
    "            self.right.inorder_code()\n",
    "            \n",
    "def huffman(n, PQ):\n",
    "    for _ in range(n - 1):\n",
    "        p = PQ.get()[1]\n",
    "        q = PQ.get()[1]\n",
    "        r = HuffNodes(' ', p.freq + q.freq)\n",
    "        r.left = p\n",
    "        r.right = q\n",
    "        PQ.put((r.freq, r))\n",
    "        \n",
    "    return PQ.get()[1]"
   ]
  },
  {
   "cell_type": "code",
   "execution_count": 4,
   "id": "cf8bcb5d",
   "metadata": {},
   "outputs": [],
   "source": [
    "symbols = ['ROOT', 'ABC', 'ABCC', 'AB', 'A', 'B', 'BABA']\n",
    "freqs = [27, 12, 7, 19, 35, 40, 15]\n",
    "\n",
    "from queue import PriorityQueue\n",
    "\n",
    "PQ = PriorityQueue()\n",
    "\n",
    "for i in range(len(symbols)):\n",
    "    node = HuffNodes(symbols[i], freqs[i])\n",
    "    PQ.put((node.freq, node))\n",
    "    \n",
    "root = huffman(len(symbols), PQ)"
   ]
  },
  {
   "cell_type": "code",
   "execution_count": 5,
   "id": "95c722f4",
   "metadata": {},
   "outputs": [
    {
     "name": "stdout",
     "output_type": "stream",
     "text": [
      "15 34 7 19 12 69 35 155 40 86 19 46 27 "
     ]
    }
   ],
   "source": [
    "root.inorder()\n",
    "for i in range(len(symbols)):\n",
    "    root.encoding('')"
   ]
  },
  {
   "cell_type": "code",
   "execution_count": 6,
   "id": "89f0c9c6",
   "metadata": {},
   "outputs": [
    {
     "name": "stdout",
     "output_type": "stream",
     "text": [
      "BABA 000 ABCC 0010 ABC 0011 A 01 B 10 AB 110 ROOT 111 "
     ]
    }
   ],
   "source": [
    "root.inorder_code()"
   ]
  }
 ],
 "metadata": {
  "kernelspec": {
   "display_name": "Python 3 (ipykernel)",
   "language": "python",
   "name": "python3"
  },
  "language_info": {
   "codemirror_mode": {
    "name": "ipython",
    "version": 3
   },
   "file_extension": ".py",
   "mimetype": "text/x-python",
   "name": "python",
   "nbconvert_exporter": "python",
   "pygments_lexer": "ipython3",
   "version": "3.9.7"
  }
 },
 "nbformat": 4,
 "nbformat_minor": 5
}

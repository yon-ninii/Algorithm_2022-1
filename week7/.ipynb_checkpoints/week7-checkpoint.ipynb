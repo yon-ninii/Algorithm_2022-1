{
 "cells": [
  {
   "cell_type": "code",
   "execution_count": 27,
   "id": "0b9523b7",
   "metadata": {
    "scrolled": true
   },
   "outputs": [
    {
     "name": "stdout",
     "output_type": "stream",
     "text": [
      "패턴이 발생한 위치 17\n",
      "패턴이 발생한 위치 91\n",
      "패턴이 발생한 위치 121\n",
      "탐색 종료\n"
     ]
    }
   ],
   "source": [
    "next = [0] * 10 # next 배열 생성\n",
    "        \n",
    "def InitNext(p) : # next 리스트 생성을 위한 init next\n",
    "    m = len(p)\n",
    "    next[0] = -1\n",
    "    j = -1\n",
    "    for i in range(m):\n",
    "        next[i] = j\n",
    "        while j >= 0 and p[i] != p[j]:\n",
    "            j = next[j]\n",
    "        j += 1\n",
    "    \n",
    "def KMP(p, t) : # KMP 알고리즘을 위한 KMP\n",
    "    m = len(p)\n",
    "    n = len(t)\n",
    "    InitNext(p)\n",
    "    i = 0\n",
    "    j = 0\n",
    "    while j < m and i < n:\n",
    "        while j >= 0 and t[i] != p[j]:\n",
    "            j = next[j]\n",
    "        i += 1\n",
    "        j += 1\n",
    "    if j == m:\n",
    "        return i - m\n",
    "    else:\n",
    "        return i\n",
    "\n",
    "\n",
    "#t1 = 'ababababcababababcaabbabababcaab'\n",
    "#p1 = 'abababca'\n",
    "t2 = 'This class is an algorithm design class. Therefore, students will have time to learn about algorithms and implement each algorithm themselves.'\n",
    "p2 = 'algorithm'\n",
    "    \n",
    "i = 0\n",
    "pre = 0\n",
    "while True:\n",
    "    pos = KMP(p2, t2[i:])\n",
    "    pos += pre\n",
    "    i = pos + len(p2)\n",
    "    if i < len(t2):\n",
    "        print('패턴이 발생한 위치 {}'.format(pos))\n",
    "    else:\n",
    "        break\n",
    "    pre = i\n",
    "print('탐색 종료')"
   ]
  }
 ],
 "metadata": {
  "kernelspec": {
   "display_name": "Python 3 (ipykernel)",
   "language": "python",
   "name": "python3"
  },
  "language_info": {
   "codemirror_mode": {
    "name": "ipython",
    "version": 3
   },
   "file_extension": ".py",
   "mimetype": "text/x-python",
   "name": "python",
   "nbconvert_exporter": "python",
   "pygments_lexer": "ipython3",
   "version": "3.9.7"
  }
 },
 "nbformat": 4,
 "nbformat_minor": 5
}
